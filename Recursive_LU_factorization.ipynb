{
 "cells": [
  {
   "cell_type": "markdown",
   "id": "35923d81",
   "metadata": {},
   "source": [
    "# Zadanie nr 3"
   ]
  },
  {
   "cell_type": "markdown",
   "id": "aa1013e2",
   "metadata": {},
   "source": [
    "Treść: Zadanie polega na napisaniu programu realizującego rekurencyjną LU faktoryzację macierzy kwadratowych wymiarów $2^k\\times 2^k$, posługując się algorytmem z wykładu oraz rekurencyjnym mnożeniem macierzowym z zadania pierwszego i rekurencyjnym odwracaniem macierzy z zadania drugiego. Rozważane przez nas $k$ należy do zbioru $\\{ 1,2,\\ldots, 8 \\}$. W raporcie omówimy następujące kwestie:\n",
    "1. Implementacja oraz pseudokod implementowanych funkcji.\n",
    "2. Narysowaniu wykresu zależności czasu działania algorytmu od rozmiaru macierzy $2^{k}\\times 2^{k}, k = 2,3,4,\\ldots, 8$.\n",
    "3. Narysowaniu wykresu zależności liczby operacji zmiennoprzecinkowych dla algorytmu od rozmiaru macierzy $2^{k}\\times 2^{k}, k = 2,3,4,\\ldots, 8$.\n",
    "4. Wnioski."
   ]
  },
  {
   "cell_type": "code",
   "execution_count": 1,
   "id": "85cacc07",
   "metadata": {},
   "outputs": [],
   "source": [
    "# import bibliotek\n",
    "import numpy as np\n",
    "import math\n",
    "import pandas as pd\n",
    "import matplotlib.pyplot as plt\n",
    "import time\n",
    "import sys\n",
    "\n",
    "%matplotlib inline"
   ]
  },
  {
   "cell_type": "code",
   "execution_count": 2,
   "id": "661b81d8",
   "metadata": {},
   "outputs": [],
   "source": [
    "def is_power_of_two(n):\n",
    "    \"\"\"Funtion to determine if number n is a power of 2\"\"\"\n",
    "    \n",
    "    return (math.ceil(math.log(n,2)) == math.floor(math.log(n,2)))"
   ]
  },
  {
   "cell_type": "markdown",
   "id": "6a1dbedf",
   "metadata": {},
   "source": [
    "## Pseudokod dla algorytmu realizującego mnożenie macierzy sposobem rekurencyjnym Bineta:\n",
    "Do odwracania macierzy wykorzystamy mnożenie rekurencyjnym sposobem Bineta z poprzedniego zadania. Mnożenie to jest wykorzystywane do kwadratowych macierzy wymiaru $2^l \\times 2^l$, w którym $l$ oznacza wykładnik potęgi oraz poziom przełączania mnożenia z tradycyjnego na rekurencyjny. W poprzednich projektach zauważyliśmy, że poziomem przełączania, dla którego czas jest optymalny jest $l = 5$.\n",
    "\n",
    "1. Wczytujemy dwie macierze kwadratowe $A$ i $B$ wymiarów $2^k\\times 2^k$. Macierze te są odpowiednimi kwadratowymi blokami odwracanej niżej macierzy. Wymagane założenia są sprawdzane w funkcji sterującej main(). Przypisujemy wymiar macierzy (który jest taki sam w $A$, jak i w $B$) do zmiennej dim.\n",
    "2. Jeżeli dim > 2, to realizujemy slicing w macierzach $A$ i $B$, który będzie stanowić podział w tych macierzach na 4 macierze blokowe w $A$, jak i w $B$. Odpowiednie macierze blokowe w macierzy $A$ to $A_{1}, A_{2}, A_{3}, A_{4}$, a w macierzy $B$ to $B_{1}, B_{2}, B_{3}, B_{4}$. Do listy (zadeklarowanej w funkcji sterującej main) operations_count_list, przechowującej liczbę operacji zmiennoprzecinkowych, przy każdym wywołaniu dodajemy liczbę 12. Następnie mnożymy bloki macierzy, traktując je jako w pewnym sensie jako \"skalary\", a następnie przykładamy funkcję multiply_matrices_Binet do każdego z wymnożonego bloku.\n",
    "3. Jeżeli dim == 2, to wykonujemy standardowe mnożenie macierzy (wymiar = 2, więc macierze blokowe są skalarami, czyli macierzami jednowymiarowymi).\n",
    "4. Zwracamy wynik mnożenia macierzowego."
   ]
  },
  {
   "cell_type": "code",
   "execution_count": 3,
   "id": "974e5396",
   "metadata": {},
   "outputs": [],
   "source": [
    "def multiply_matrices_Binet(A, B):\n",
    "    \"\"\"Function to multiplicate matrices A and B using recursively Binet's method\"\"\"\n",
    "    \n",
    "    A = np.matrix(A)\n",
    "    B = np.matrix(B)\n",
    "    \n",
    "    dim = A.shape[0]\n",
    "    \n",
    "    if dim > 2:\n",
    "        \n",
    "        A_1 = A[0:int(dim/2), 0:int(dim/2)]\n",
    "        A_2 = A[0:int(dim/2), int(dim/2):dim]\n",
    "        A_3 = A[int(dim/2):dim, 0:int(dim/2)]\n",
    "        A_4 = A[int(dim/2):dim, int(dim/2):dim]\n",
    "\n",
    "        B_1 = B[0:int(dim/2), 0:int(dim/2)]\n",
    "        B_2 = B[0:int(dim/2), int(dim/2):dim]\n",
    "        B_3 = B[int(dim/2):dim, 0:int(dim/2)]\n",
    "        B_4 = B[int(dim/2):dim, int(dim/2):dim]\n",
    "        \n",
    "        operations_count_list.append(12)\n",
    "        \n",
    "        C_1 = multiply_matrices_Binet(A_1, B_1) + multiply_matrices_Binet(A_2, B_3)\n",
    "        C_2 = multiply_matrices_Binet(A_1, B_2) + multiply_matrices_Binet(A_2, B_4)\n",
    "        C_3 = multiply_matrices_Binet(A_3, B_1) + multiply_matrices_Binet(A_4, B_3)\n",
    "        C_4 = multiply_matrices_Binet(A_3, B_2) + multiply_matrices_Binet(A_4, B_4)\n",
    "        \n",
    "    elif dim == 2:\n",
    "        \n",
    "        operations_count_list.append(12)\n",
    "        \n",
    "        result = np.zeros(shape = (dim, dim))\n",
    "        result[0,0] = A[0,0] * B[0,0] + A[0,1] * B[1,0]\n",
    "        result[0,1] = A[0, 0] * B[0,1] + A[0,1] * B[1,1]\n",
    "        result[1,0] = A[1,0] * B[0,0] + A[1,1] * B[1,0]\n",
    "        result[1,1] = A[1,0] * B[0,1] + A[1,1] * B[1,1]\n",
    "                        \n",
    "        return result\n",
    "    \n",
    "    upper_half = np.concatenate((C_1, C_2), axis=1)\n",
    "    lower_half = np.concatenate((C_3, C_4), axis=1)\n",
    "    result = np.concatenate((upper_half, lower_half), axis = 0)\n",
    "    return result"
   ]
  },
  {
   "cell_type": "markdown",
   "id": "7e1ad1e3",
   "metadata": {},
   "source": [
    "## Napiszemy teraz pseudokod dla algorytmu realizującego mnożenie macierzy sposobem tradycyjnym:\n",
    "1. Wczytujemy dwie macierze kwadratowe A i B wymiarów $2^l\\times 2^l$. Odpowiednie założenia zostaną zweryfikowane w funkcji sterującej main(), którą opiszemy w dalszym ciągu raportu.\n",
    "2. Inicjalizujemy macierz zer result będącą wynikiem mnożenia macierzowego, zmienną s, która będzie służyć jako suma tymczasowa do wpisywania elementów macierzy wynikowej, zliczamy także liczbę operacji zmiennoprzecinkowych.\n",
    "3. Dla każdego wiersza macierzy A, dla każdej kolumny macierzy B oraz dla każdej kolumny (wiersza) macierzy A (B) korzystamy ze wzoru na sumę składowych elementów macierzy wynikowej, licząc przy tym liczbę operacji zmiennoprzecinkowych.\n",
    "4. Zwracamy wynik."
   ]
  },
  {
   "cell_type": "code",
   "execution_count": 4,
   "id": "60905185",
   "metadata": {},
   "outputs": [],
   "source": [
    "def multiply_matrices_traditional(A, B):\n",
    "    \"\"\"Function to multiplicate matrices A and B using traditional method\"\"\"\n",
    "    dim = A.shape[0]\n",
    "    result = np.zeros(shape = (dim, dim))\n",
    "    s = 0\n",
    "    \n",
    "    \n",
    "    for row in range(dim):\n",
    "        for col in range(dim):\n",
    "            for k in range(dim):\n",
    "                s += A[row, k] * B[k, col]\n",
    "                operations_count_list.append(1)\n",
    "            operations_count_list.pop(1)\n",
    "            result[row, col] = s\n",
    "            s = 0\n",
    "    return result"
   ]
  },
  {
   "cell_type": "markdown",
   "id": "b7c8d66c",
   "metadata": {},
   "source": [
    "## Pseudokod funkcji wybierającej sposób mnożenia \n",
    "1. Wczytujemy macierze kwadratowe A i B rozmiarów takich, jak w poprzednio opisanych pseudokodach, oraz liczbę $l$, której znaczenie pozostaje zgodne z treścią zadania (zmienna sterująca przełączaniem pomiędzy funkcją multiply_matrices_traditional a funkcją multiply_matrices_Binet). Jest domyślnie ustawiona jako $l = 5$, ponieważ jak już wyżej zauważyliśmy jest to poziom przełączania, dla którego czas mnożenia jest optymalny.\n",
    "2. Sprawdzamy zgodność założeń: czy macierze A i B są kwadratowe rozmiarów $2^k\\times 2^k$.\n",
    "3. Jeżeli wymiar macierzy jest mniejszy niż $2^l$, to wywołujemy funkcję multiply_matrices_traditional. W przeciwnym razie wywołujemy funkcję multiply_matrices_Binet."
   ]
  },
  {
   "cell_type": "code",
   "execution_count": 5,
   "id": "ef063655",
   "metadata": {},
   "outputs": [],
   "source": [
    "# A and B are matrices, l is method threshold\n",
    "\n",
    "def multiply_matrices(A, B, l=5):\n",
    "    \"\"\"Driver function to multiplication matrices A and B\"\"\"\n",
    "    try:\n",
    "        A = np.matrix(A)\n",
    "        B = np.matrix(B)\n",
    "        l = int(l)\n",
    "    except ValueError:\n",
    "        print(\"Check corectness of parameters!\")\n",
    "        \n",
    "    dim_row_A = A.shape[0]\n",
    "    dim_col_A = A.shape[1]\n",
    "    dim_row_B = B.shape[0]\n",
    "    dim_col_B = B.shape[1]\n",
    "\n",
    "    \n",
    "    if (is_power_of_two(dim_row_A)) & (is_power_of_two(dim_row_B)) & (dim_row_A == dim_col_A) & (dim_row_B == dim_col_B) & (dim_row_A == dim_col_B):\n",
    "        \n",
    "        dim = dim_row_A\n",
    "        \n",
    "        if dim <= 2**l:\n",
    "#             print('Traditional method')\n",
    "            return multiply_matrices_traditional(A, B)\n",
    "        else:\n",
    "#             print('Binet\\'s method')\n",
    "            return multiply_matrices_Binet(A, B)\n",
    "    else:\n",
    "        print('Check dimensionality of matrices!')\n",
    "        raise ValueError"
   ]
  },
  {
   "cell_type": "markdown",
   "id": "65b6dcc3",
   "metadata": {},
   "source": [
    "## Pseudokod dla algorytmu realizującego rekurencyjne odwracanie macierzy\n",
    "1. Wczytujemy dane wejściowe - obiekt konwertowalny do macierzy kwadratowej wymiarów $2^k\\times 2^k$, gdzie $k\\in \\{1,2,\\ldots,8\\}$, ustawiamy optymalny poziom przełączania $l=5$ jako parametr domyślny..\n",
    "2. Sprawdzenia założeń co do wprowadzonych danych wejściowych sprawdzimy w funkcji sterującej main.\n",
    "3. Jeżeli wymiar macierzy jest większy, niż 2, to:\n",
    "* Realizujemy slicing, dzieląc oryginalną macierz A na 4 macierze blokowe $A_{11}, A_{12}, A_{21}, A_{22}$.\n",
    "* Korzystamy ze wzorów z wykładu, a poszczególne macierze blokowe z algorytmu podanego na wykładzie przypisujemy do zmiennych $B_{11}, B_{12}, B_{21}, B_{22}$. Aby wyznaczyć te macierze blokowe, musimy wywoływać rekurencyjnie w odpowiednich miejsach odwracanie macierzowe.\n",
    "4. W przeciwnym przypadku wymiar jest równy 2 i wykonujemy \"tradycyjne\" odwracanie macierzy, o ile wyznacznik nowo otrzymanej macierzy jest różny od zera. Jeżeli wyznacznik jest równy zeru, to zwracamy użytkownikowi komunikat o błędzie.\n",
    "5. Realizujemy konkatenację odpowiednich bloków macierzowych i zwracamy macierz odwrotną $A^{-1}$.\n",
    "6. W trakcie działania algorytmu zliczamy liczbę operacji zmiennoprzecinkowych, dopisując kolejne liczby operacji do listy operations_count_list zadeklarowanej w funkcji sterującej main()."
   ]
  },
  {
   "cell_type": "code",
   "execution_count": 6,
   "id": "06d45257",
   "metadata": {},
   "outputs": [],
   "source": [
    "def inverse_matrix(A, l=5):\n",
    "    \"\"\"Function returns inverse matrix of A\"\"\"\n",
    "        \n",
    "    dim = A.shape[0]\n",
    "    \n",
    "    if dim > 2:\n",
    "        A_11 = A[0:int(dim/2), 0:int(dim/2)]\n",
    "        A_12 = A[0:int(dim/2), int(dim/2):dim]\n",
    "        A_21 = A[int(dim/2):dim, 0:int(dim/2)]\n",
    "        A_22 = A[int(dim/2):dim, int(dim/2):dim]          \n",
    "            \n",
    "        operations_count_list.append(2)\n",
    "            \n",
    "        A_11_inv = inverse_matrix(A_11)           \n",
    "        mult_A_21_A_11_inv = multiply_matrices(A_21, A_11_inv, l)          \n",
    "        S_22 = A_22 - multiply_matrices(mult_A_21_A_11_inv, A_12, l)\n",
    "        S_22_inv = inverse_matrix(S_22)            \n",
    "        mult_A_11_inv_A_12_S_22_inv = multiply_matrices(multiply_matrices(A_11_inv, A_12, l=5), S_22_inv, l)\n",
    "            \n",
    "        B_11 = A_11_inv + multiply_matrices(mult_A_11_inv_A_12_S_22_inv, mult_A_21_A_11_inv, l)\n",
    "        B_12 = -mult_A_11_inv_A_12_S_22_inv\n",
    "        B_21 = multiply_matrices(-S_22_inv, mult_A_21_A_11_inv, l)\n",
    "        B_22 = S_22_inv\n",
    "        \n",
    "    elif dim == 2:\n",
    "        if (A[0, 0] * A[1, 1] - A[0, 1] * A[1, 0]) != 0:\n",
    "            inv_matrix = (1 / (A[0, 0] * A[1, 1] - A[0, 1] * A[1, 0])) * np.matrix([[A[1,1], -A[0,1]], [-A[1, 0], A[0, 0]]])\n",
    "            operations_count_list.append(5)\n",
    "            return inv_matrix\n",
    "        else:\n",
    "            print('Determinant cannot be equal to zero!')\n",
    "            sys.exit(1)\n",
    "\n",
    "    upper_half = np.concatenate((B_11, B_12), axis=1)\n",
    "    lower_half = np.concatenate((B_21, B_22), axis=1)\n",
    "    inv_matrix = np.concatenate((upper_half, lower_half), axis = 0)\n",
    "        \n",
    "    return inv_matrix"
   ]
  },
  {
   "cell_type": "markdown",
   "id": "72f72bbb",
   "metadata": {},
   "source": [
    "## Psuedokod dla algorytmu realizującego rekurencyjną LU faktoryzację\n",
    "1. Wczytujemy macierz kwadratową (obiekt konwertowalny do macierzy kwadratowej) wymiarów $A$ wymiarów $2^k$, gdzie $k\\in\\{1,2,\\ldots, 8\\}$. W funkcji main() sprawdzimy, czy wprowadzony przez użytkownika input jest pożądanym obiektem.\n",
    "2. Jeżeli wymiar macierzy jest większy, niż 2, to realizujemy slicing, dzieląc oryginalną macierz A na 4 macierze blokowe $A_{11}, A_{12}, A_{21}, A_{22}$, a następnie, korzystając ze wzorów z wykładu:\n",
    "* obliczamy rekurencyjnie $LU(A_{11})$,\n",
    "* obliczamy rekurencyjnie $U_{11}^{-1}$,\n",
    "* obliczamy rekurencyjnie mnożenie macierzy $A_{21}$ i $U_{11}^{-1}$, a wynik zapisujemy do $L_{21}$,\n",
    "* obliczamy rekurencyjnie $L_{11}^{-1}$,\n",
    "* obliczamy rekurencyjnie mnożenie macierzy $L_{11}^{-1}$ i $A_{12}$, a wynik zapisujemy do $U_{12}$,\n",
    "* obliczamy rekurencyjnie $L_{22}$ i $U_{22}$,\n",
    "* obliczamy rekurencyjnie $LU(L_{22})$, zwracając krotkę w postaci $(L, U)$, gdzie $L$ jest macierzą dolnotrójkątną oraz $U$ będącą maierzą górnotrójkątną,\n",
    "* na każdym poziomie rekurencji zliczamy liczbę operacji zmiennoprzecinkowych, zapisując tę liczbę do listy operations_count_list, zadeklarowaną w funkcji sterującej main().\n",
    "3. Jeżeli wymiar macierzy jest równy dwa, to, uprzednio sprawdzając, czy nie występuje dzielenie przez $0$, realizujemy tradycyjną LU faktoryzację (opisaną powyżej LU faktoryzację, ale bez wywołania rekurencyjnego).\n",
    "4. Realizujemy konkatenację odpowiednich bloków macierzowych i zwracamy krotkę macierzy $(L, U)$."
   ]
  },
  {
   "cell_type": "code",
   "execution_count": 7,
   "id": "5e5dae9b",
   "metadata": {},
   "outputs": [],
   "source": [
    "def LU(A):\n",
    "    \"\"\"Function returns LU decomposition of A matrix\"\"\"\n",
    "    \n",
    "    dim = A.shape[0]\n",
    "    \n",
    "    if dim > 2:\n",
    "        A_11 = A[0:int(dim/2), 0:int(dim/2)]\n",
    "        A_12 = A[0:int(dim/2), int(dim/2):dim]\n",
    "        A_21 = A[int(dim/2):dim, 0:int(dim/2)]\n",
    "        A_22 = A[int(dim/2):dim, int(dim/2):dim]\n",
    "        \n",
    "        operations_count_list.append(1)\n",
    "        \n",
    "        L_11, U_11 = LU(A_11)\n",
    "        L_11_inv = inverse_matrix(L_11)\n",
    "        mult_L_11_inv_A_12 = multiply_matrices(L_11_inv, A_12)\n",
    "        U_11_inv = inverse_matrix(U_11)\n",
    "        L_21 = multiply_matrices(A_21, U_11_inv)\n",
    "        U_12 = mult_L_11_inv_A_12\n",
    "        L_22 = A_22 - multiply_matrices(L_21, mult_L_11_inv_A_12)\n",
    "        \n",
    "        L_22, U_22 = LU(L_22)\n",
    "     \n",
    "    elif dim == 2:\n",
    "        if A[0,0]==0:\n",
    "            print(\"\\nMatrix {} has a_11 value equal to 0\".format(A))\n",
    "            raise Exception(\"ZeroDivisionError\")\n",
    "        else:\n",
    "            operations_count_list.append(4)\n",
    "            L = np.matrix([ [1, 0], [A[1,0] / A[0,0], 1] ])\n",
    "            U = np.matrix([ [A[0,0], A[0,1]], [0, A[1,1] - A[0,1]*A[1,0] / A[0,0]] ])\n",
    "\n",
    "            return (L, U)\n",
    "    \n",
    "    L_12 = np.zeros(shape=(int(dim/2), int(dim/2)))\n",
    "    U_21 = L_12\n",
    "    L_upper_half = np.concatenate((L_11, L_12), axis=1)\n",
    "    L_lower_half = np.concatenate((L_21, L_22), axis=1)\n",
    "    L = np.concatenate((L_upper_half, L_lower_half), axis = 0)\n",
    "    \n",
    "    U_upper_half = np.concatenate((U_11, U_12), axis=1)\n",
    "    U_lower_half = np.concatenate((U_21, U_22), axis=1)\n",
    "    U = np.concatenate((U_upper_half, U_lower_half), axis = 0)\n",
    "    \n",
    "    return (L, U)"
   ]
  },
  {
   "cell_type": "markdown",
   "id": "a9b7cf92",
   "metadata": {},
   "source": [
    "## Pseudokod funkcji sterującej\n",
    "1. Wczytujemy obiekt konwertowalny do macierzy kwadratowej A rozmiarów takich, jak w poprzednio opisanych pseudokodach, sprawdzając czy A jest macierzą kwadratową wymaganych wymiarów.\n",
    "2. Deklarujemy globalną listę operations_count_list, która służy do zliczania wykonywanych operacji zmiennoprzecinkowych.\n",
    "3. Wykonujemy na maierzy A funkcję LU($A$).\n",
    "4. Zwracamy słownik składający się z macierzy $L$, macierzy $U$, liczby wykonanych operacji zmiennoprzecinkowych i wyznacznika. Nie zwracamy wartości własnych z polecenia, ponieważ nie są to wartości własne."
   ]
  },
  {
   "cell_type": "code",
   "execution_count": 8,
   "id": "9620595c",
   "metadata": {},
   "outputs": [],
   "source": [
    "def main(A):\n",
    "    \"\"\"Drive function\"\"\"\n",
    "    try:\n",
    "        A = np.matrix(A)\n",
    "    except ValueError:\n",
    "        print('A should be able to be converted to matrix!')\n",
    "        \n",
    "    global operations_count_list\n",
    "    operations_count_list = []\n",
    "    dim = A.shape[0]\n",
    "    \n",
    "    if (dim == A.shape[1]) & (is_power_of_two(dim)):\n",
    "        L, U = LU(A)\n",
    "        return {'L matrix' : L,\n",
    "                'U matrix' : U,\n",
    "                'Number of operations' : np.sum(operations_count_list),\n",
    "                'Determinant' : round(np.prod(U.diagonal()), 3)\n",
    "               }\n",
    "    \n",
    "    else:\n",
    "        print('Check dimensionality of matrix!')\n",
    "        raise ValueError\n",
    "        "
   ]
  },
  {
   "cell_type": "markdown",
   "id": "6556a996",
   "metadata": {},
   "source": [
    "## Generowanie macierzy\n",
    "1. Ustalamy seed równy 123456, żeby upewnić się, że generowane przez nas macierze za każdym wczytaniem komórki będą takie same.\n",
    "2. Tworzymy listę x_axis, która przechowuje rozmiary sprawdzanych przez nas macierzy. Rozmiary te obejmują zakres liczb od $2^1$ aż do $2^8$.\n",
    "3. Wewnątrz funkcji generate_matrices deklarujemy pustą listę list_with_matrices, którą następnie powiększamy o każdą wygenerowaną macierz."
   ]
  },
  {
   "cell_type": "code",
   "execution_count": 9,
   "id": "6f51fce8",
   "metadata": {},
   "outputs": [],
   "source": [
    "np.random.seed(123456)\n",
    "\n",
    "x_axis = [2**int_number for int_number in range(1,9)]\n",
    "\n",
    "def generate_matrices():\n",
    "    \"\"\"This function retruns a tensor with generated len(x_axis) square matrices of size in list x_axis to inverse\"\"\"\n",
    "    \n",
    "    list_with_matrices = []\n",
    "    for row_index in range(len(x_axis)):\n",
    "        M = np.random.randint(-100, 100, size = (x_axis[row_index], x_axis[row_index]))\n",
    "        list_with_matrices.append(M)\n",
    "    return list_with_matrices"
   ]
  },
  {
   "cell_type": "code",
   "execution_count": 10,
   "id": "564a0571",
   "metadata": {},
   "outputs": [],
   "source": [
    "generated_matrices = generate_matrices()"
   ]
  },
  {
   "cell_type": "markdown",
   "id": "38707a7a",
   "metadata": {},
   "source": [
    "## Faza testowa dla wyznaczników\n",
    "Porównamy teraz wyznaczniki policzone przy pomocy biblioteki Numpy z wyznacznikami policzonymi za pomocą napisanego przez nas programu."
   ]
  },
  {
   "cell_type": "code",
   "execution_count": 34,
   "id": "04e31d9d",
   "metadata": {},
   "outputs": [],
   "source": [
    "determinants_LU = []\n",
    "determinants_numpy = []\n",
    "matrices_to_compare = generated_matrices[:6]\n",
    "\n",
    "for matrix in matrices_to_compare:\n",
    "    \n",
    "    det_numpy = round(np.linalg.det(matrix), 3)\n",
    "    det_LU = main(matrix)['Determinant']\n",
    "    \n",
    "    determinants_numpy.append(det_numpy)\n",
    "    determinants_LU.append(det_LU)"
   ]
  },
  {
   "cell_type": "code",
   "execution_count": 37,
   "id": "4414374c",
   "metadata": {},
   "outputs": [
    {
     "data": {
      "text/html": [
       "<div>\n",
       "<style scoped>\n",
       "    .dataframe tbody tr th:only-of-type {\n",
       "        vertical-align: middle;\n",
       "    }\n",
       "\n",
       "    .dataframe tbody tr th {\n",
       "        vertical-align: top;\n",
       "    }\n",
       "\n",
       "    .dataframe thead th {\n",
       "        text-align: right;\n",
       "    }\n",
       "</style>\n",
       "<table border=\"1\" class=\"dataframe\">\n",
       "  <thead>\n",
       "    <tr style=\"text-align: right;\">\n",
       "      <th></th>\n",
       "      <th>Numpy determinant</th>\n",
       "      <th>Recurrent LU</th>\n",
       "    </tr>\n",
       "  </thead>\n",
       "  <tbody>\n",
       "    <tr>\n",
       "      <th>1</th>\n",
       "      <td>-4.729000e+03</td>\n",
       "      <td>-4.729000e+03</td>\n",
       "    </tr>\n",
       "    <tr>\n",
       "      <th>2</th>\n",
       "      <td>1.934962e+08</td>\n",
       "      <td>1.934962e+08</td>\n",
       "    </tr>\n",
       "    <tr>\n",
       "      <th>3</th>\n",
       "      <td>4.821220e+15</td>\n",
       "      <td>4.821220e+15</td>\n",
       "    </tr>\n",
       "    <tr>\n",
       "      <th>4</th>\n",
       "      <td>-1.748412e+34</td>\n",
       "      <td>-1.748412e+34</td>\n",
       "    </tr>\n",
       "    <tr>\n",
       "      <th>5</th>\n",
       "      <td>3.789607e+73</td>\n",
       "      <td>3.789607e+73</td>\n",
       "    </tr>\n",
       "    <tr>\n",
       "      <th>6</th>\n",
       "      <td>-3.095324e+156</td>\n",
       "      <td>-3.095324e+156</td>\n",
       "    </tr>\n",
       "  </tbody>\n",
       "</table>\n",
       "</div>"
      ],
      "text/plain": [
       "   Numpy determinant   Recurrent LU\n",
       "1      -4.729000e+03  -4.729000e+03\n",
       "2       1.934962e+08   1.934962e+08\n",
       "3       4.821220e+15   4.821220e+15\n",
       "4      -1.748412e+34  -1.748412e+34\n",
       "5       3.789607e+73   3.789607e+73\n",
       "6     -3.095324e+156 -3.095324e+156"
      ]
     },
     "execution_count": 37,
     "metadata": {},
     "output_type": "execute_result"
    }
   ],
   "source": [
    "data = {'Numpy determinant' : determinants_numpy, 'Recurrent LU' : determinants_LU}\n",
    "df = pd.DataFrame(data, index=[_ for _ in range(1, 7)])\n",
    "df"
   ]
  },
  {
   "cell_type": "markdown",
   "id": "bde5048e",
   "metadata": {},
   "source": [
    "Policzone wyznaczniki są sobie równe z dokładnością do 3 miejsc po przecinku (z uwagi na błędy numeryczne)."
   ]
  },
  {
   "cell_type": "markdown",
   "id": "a8d95f67",
   "metadata": {},
   "source": [
    "## Czas mnożenia oraz liczba wykonywanych operacji\n",
    "1. Wewnątrz funkcji generate_y_axis inicjalizujemy dwie puste listy: y_axis_time oraz y_axis_operations, do których dodawać będziemy odpowiednio czas oraz liczbę wykonanych operacji w zależności od rozmiaru dekomponowanych macierzy. \n",
    "2. W pętli 'for' rozpoczynamy mierzenie czasu, a następnie odwracamy po kolei wszystkie macierze będące elementami wyżej wygenerowanej listy generated_matrices.\n",
    "3. Funkcja zwraca krotkę składającą się z dwóch list y_axis_time oraz y_axis_operations. Każdy element krotki posłuży nam jako wartości na prezentowanych wykresach."
   ]
  },
  {
   "cell_type": "code",
   "execution_count": 13,
   "id": "996aa142",
   "metadata": {},
   "outputs": [
    {
     "name": "stderr",
     "output_type": "stream",
     "text": [
      "C:\\anaconda\\lib\\site-packages\\numpy\\core\\_methods.py:52: RuntimeWarning: overflow encountered in reduce\n",
      "  return umr_prod(a, axis, dtype, out, keepdims, initial, where)\n"
     ]
    }
   ],
   "source": [
    "def generate_y_axis(generated_matrices):\n",
    "    \"\"\"Function returns time of inverting matrices and number of operations\"\"\"\n",
    "        \n",
    "    y_axis_time = []\n",
    "    y_axis_operations = []\n",
    "    \n",
    "    for matrix in generated_matrices:\n",
    "\n",
    "        start_time = time.time()\n",
    "        result = main(matrix)\n",
    "        y_axis_time.append(time.time() - start_time)\n",
    "        y_axis_operations.append(result['Number of operations'])\n",
    "    return (y_axis_time, y_axis_operations)\n",
    "        \n",
    "y_axis = generate_y_axis(generated_matrices)"
   ]
  },
  {
   "cell_type": "markdown",
   "id": "eb43eefa",
   "metadata": {},
   "source": [
    "## Wykresy"
   ]
  },
  {
   "cell_type": "markdown",
   "id": "6b8bc293",
   "metadata": {},
   "source": [
    "#### Wykres przedstawiający zależność rozmiaru macierzy od czasu potrzebnego na wykonanie LU faktoryzacji poszczególnych macierzy."
   ]
  },
  {
   "cell_type": "code",
   "execution_count": 14,
   "id": "287a955e",
   "metadata": {},
   "outputs": [
    {
     "data": {
      "image/png": "[encoded data removed]",
      "text/plain": [
       "<Figure size 576x396 with 1 Axes>"
      ]
     },
     "metadata": {},
     "output_type": "display_data"
    }
   ],
   "source": [
    "plt.style.use('seaborn')\n",
    "plt.scatter(x_axis, y_axis[0])\n",
    "plt.xlabel('\\n Size of matrix', fontsize=15)\n",
    "plt.ylabel('Time of multiplication [s] \\n', fontsize=15)\n",
    "plt.title('Dependency of size of matrix and inversion time for l=5 \\n', fontsize = 20)\n",
    "plt.show()"
   ]
  },
  {
   "cell_type": "markdown",
   "id": "4c77b70e",
   "metadata": {},
   "source": [
    "#### Wykres przedstawiający zależność rozmiaru macierzy od liczby wykonywanych operacji przy odwracaniu poszczególnych macierzy"
   ]
  },
  {
   "cell_type": "code",
   "execution_count": 21,
   "id": "2abeed18",
   "metadata": {},
   "outputs": [
    {
     "data": {
      "image/png": "[encoded data removed]",
      "text/plain": [
       "<Figure size 576x396 with 1 Axes>"
      ]
     },
     "metadata": {},
     "output_type": "display_data"
    }
   ],
   "source": [
    "plt.style.use('seaborn')\n",
    "plt.scatter(x_axis, y_axis[1])\n",
    "plt.xlabel('\\n Size of matrix',fontsize=15)\n",
    "plt.ylabel('Number of operations [mln] \\n',fontsize=15)\n",
    "plt.yticks([0,2500000,5000000,7500000,10000000,12500000,15000000,17500000,20000000,22500000,25000000],['0','2.5','5','7.5',\n",
    "                                                                          '10','12.5','15','17.5', '20','22.5','25'])\n",
    "plt.title('Dependency of size of matrix and number of operations for l=5 \\n',fontsize=20)\n",
    "plt.show()"
   ]
  },
  {
   "cell_type": "markdown",
   "id": "1f4cda78",
   "metadata": {},
   "source": [
    "## Wnioski:\n",
    "* Zależność rozmiaru macierzy od czasu jej LU faktoryzacji wskazuje na złożoność $O(n^3)$.\n",
    "* Zależność rozmiaru macierzy od liczby wykonanych operacji wskazuje na złożoność $O(n^3)$.\n",
    "\n",
    "Powyższe wnioski zgadzają się z teorią przedstawioną na wykładzie."
   ]
  }
 ],
 "metadata": {
  "kernelspec": {
   "display_name": "Python 3",
   "language": "python",
   "name": "python3"
  },
  "language_info": {
   "codemirror_mode": {
    "name": "ipython",
    "version": 3
   },
   "file_extension": ".py",
   "mimetype": "text/x-python",
   "name": "python",
   "nbconvert_exporter": "python",
   "pygments_lexer": "ipython3",
   "version": "3.8.8"
  }
 },
 "nbformat": 4,
 "nbformat_minor": 5
}
